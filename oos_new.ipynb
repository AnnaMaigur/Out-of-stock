{
 "cells": [
  {
   "cell_type": "code",
   "execution_count": 1,
   "id": "dad482ff-b8c2-408c-bf0d-1b205f39cacd",
   "metadata": {},
   "outputs": [],
   "source": [
    "import os\n",
    "os.chdir(r\"C:\\Users\\maiguann\\OneDrive - Mars Inc\\Documents\\MW alert system DC\\data\")\n",
    "import numpy as np\n",
    "import pandas as pd\n",
    "#!pip install openpyxl"
   ]
  },
  {
   "cell_type": "code",
   "execution_count": 2,
   "id": "3c2a619f-8007-4cb6-8aa2-ff692dbf008e",
   "metadata": {
    "tags": []
   },
   "outputs": [
    {
     "name": "stderr",
     "output_type": "stream",
     "text": [
      "C:\\Users\\maiguann\\Miniconda3\\lib\\site-packages\\IPython\\core\\interactiveshell.py:3441: DtypeWarning: Columns (11) have mixed types.Specify dtype option on import or set low_memory=False.\n",
      "  exec(code_obj, self.user_global_ns, self.user_ns)\n"
     ]
    }
   ],
   "source": [
    "#product matrix\n",
    "matrix = pd.read_csv (r'C:\\Users\\maiguann\\OneDrive - Mars Inc\\Documents\\MW alert system DC\\SO_data (4).csv')\n",
    "matrix = matrix[['plu_code', 'in_matrix', 'address_text']]\n",
    "matrix = matrix.drop_duplicates()\n"
   ]
  },
  {
   "cell_type": "code",
   "execution_count": 3,
   "id": "a282a3b8-ae05-460f-b841-0bd49c56ff16",
   "metadata": {
    "tags": []
   },
   "outputs": [],
   "source": [
    "#directory (products' prices)\n",
    "current_prices = pd.read_excel(r'C:\\Users\\maiguann\\OneDrive - Mars Inc\\Documents\\справочник\\current_prices.xlsx', sheet_name = 'E2E X5')\n",
    "current_prices = current_prices.iloc[3: , :]\n",
    "current_prices=current_prices.rename(columns=current_prices.iloc[0]).drop(current_prices.index[0])\n",
    "current_prices['price'] = current_prices['Outlet Stock, RUR'].divide(current_prices['Outlet Stock, Qty']+.000000000000000000000000001)\n",
    "current_prices['price']=current_prices['price'].replace([np.inf,-np.inf], np.nan)\n",
    "current_prices['price']=current_prices['price'].replace(0,np.nan)\n",
    "current_prices['Product Code']=current_prices['Product Code'].astype(int)\n",
    "old_prices = pd.read_excel(r'C:\\Users\\maiguann\\OneDrive - Mars Inc\\Documents\\справочник\\ZREP-PLU-price.xlsx', sheet_name = 'ZREP-PLU-Price')\n",
    "current_prices = pd.merge(current_prices, old_prices, left_on = 'Product Code', right_on = 'PLU', how='outer')\n",
    "current_prices['price'].fillna(current_prices['BASE PRICE, PC'], inplace=True)\n",
    "current_prices['Product Code'].fillna(current_prices['PLU'], inplace=True)\n",
    "current_prices = current_prices[['Product Code','price']]\n",
    "current_prices=current_prices.drop_duplicates(subset =['Product Code'] )\n",
    "current_prices = current_prices.dropna(subset = ['price'])"
   ]
  },
  {
   "cell_type": "code",
   "execution_count": 27,
   "id": "d4c462db-be59-49ce-afe2-8c76654544a9",
   "metadata": {
    "tags": []
   },
   "outputs": [
    {
     "name": "stderr",
     "output_type": "stream",
     "text": [
      "C:\\Users\\maiguann\\Miniconda3\\lib\\site-packages\\IPython\\core\\interactiveshell.py:3441: DtypeWarning: Columns (1) have mixed types.Specify dtype option on import or set low_memory=False.\n",
      "  exec(code_obj, self.user_global_ns, self.user_ns)\n"
     ]
    }
   ],
   "source": [
    "#data\n",
    "stock = pd.read_csv (r\"C:\\Users\\maiguann\\OneDrive - Mars Inc\\Documents\\MW alert system DC\\data_csv\\stock MW 2609.csv\")\n",
    "stock.drop('Unnamed: 0', inplace=True, axis=1)\n",
    "sales = pd.read_csv (r\"C:\\Users\\maiguann\\OneDrive - Mars Inc\\Documents\\MW alert system DC\\data_csv\\sales MW 2609.csv\")\n",
    "sales.drop('Unnamed: 0', inplace=True, axis=1)\n",
    "#data columns\n",
    "data_sales = [col for col in sales if col.startswith('2021')]\n",
    "data_stock = [col for col in stock if col.startswith('2021')]\n",
    "stock=pd.merge(stock, matrix,on = ('plu_code', 'address_text'), how = 'left')\n",
    "stock = stock[stock['in_matrix']==1]\n",
    "sales=pd.merge(sales, matrix,on = ('plu_code', 'address_text'), how = 'left')\n",
    "sales = sales[sales['in_matrix']==1]\n"
   ]
  },
  {
   "cell_type": "code",
   "execution_count": 28,
   "id": "644c06fe-5832-40cb-a9a8-19f08d474040",
   "metadata": {},
   "outputs": [],
   "source": [
    "stock.drop('in_matrix', inplace=True, axis=1)\n",
    "sales.drop('in_matrix', inplace=True, axis=1)"
   ]
  },
  {
   "cell_type": "markdown",
   "id": "95b55ce7-9ed6-4e46-9e07-88077b5cc397",
   "metadata": {},
   "source": [
    "## Stock"
   ]
  },
  {
   "cell_type": "markdown",
   "id": "4a7a44fb-9be6-4049-9086-7300dd9a18c1",
   "metadata": {},
   "source": [
    "### filtering out blocked plu"
   ]
  },
  {
   "cell_type": "code",
   "execution_count": 29,
   "id": "4571ed6f-caad-4af0-8dfc-b6ad25fd588c",
   "metadata": {},
   "outputs": [],
   "source": [
    "stock = stock[stock['plu_name']!=\"M&Ms Драж.MAXI с молочным шоколадом 70г\"]\n",
    "stock = stock[stock['plu_name']!=\"M&Ms Драже MAXI с арахисом 70г\"]\n",
    "stock = stock[stock['plu_name']!=\"M&MS Драже КРИСПИ хр.шар.мол.шок.гл.110г\"]\n",
    "stock = stock[stock['plu_name']!=\"M&Ms Драже с арахисом 130г\"] \n",
    "stock = stock[stock['plu_name']!=\"M&Ms Драже шоколадный 130г\"] \n",
    "stock = stock[stock['plu_name']!=\"SNICKERS SUP.Батончик шок.ж.ар/кар/н.95г\"]"
   ]
  },
  {
   "cell_type": "code",
   "execution_count": 30,
   "id": "01a31e16-ff29-4c89-a2b9-302cc305c5b9",
   "metadata": {},
   "outputs": [],
   "source": [
    "stock['oos_days']=(stock[data_stock]==0).sum(axis=1)"
   ]
  },
  {
   "cell_type": "code",
   "execution_count": 31,
   "id": "9320b072-ba8e-4ac4-8fe6-6bd87bc64d44",
   "metadata": {},
   "outputs": [],
   "source": [
    "stock_list = stock[stock['oos_days']>0]\n",
    "stock_list.to_excel(r'C:\\Users\\maiguann\\OneDrive - Mars Inc\\Documents\\MW alert system DC\\OOS\\list_oos_2609.xlsx')"
   ]
  },
  {
   "cell_type": "code",
   "execution_count": 32,
   "id": "ba72ca19-2e80-471b-9c68-8d60b814b53a",
   "metadata": {},
   "outputs": [],
   "source": [
    "#number of outlets\n",
    "stock_total = stock.groupby([\"macro_name\", \"plu_code\", \"plu_name\", \"assort_level\"]).agg({'werks':'size','oos_days':'sum'}).reset_index()"
   ]
  },
  {
   "cell_type": "code",
   "execution_count": 33,
   "id": "d21f64b9-d13c-4692-b811-be34dfc1f885",
   "metadata": {},
   "outputs": [],
   "source": [
    "stock_grouped = stock.groupby([\"macro_name\", \"plu_code\", \"plu_name\", \"assort_level\"])['oos_days'].value_counts().unstack(fill_value=0).reset_index()#.agg({'werks':'size','oos_days':'sum'})"
   ]
  },
  {
   "cell_type": "code",
   "execution_count": 34,
   "id": "6ce8ad71-56dc-4fe1-aa22-0d4ac20ba543",
   "metadata": {
    "tags": []
   },
   "outputs": [],
   "source": [
    "stock_grouped = pd.merge(stock_grouped, stock_total)"
   ]
  },
  {
   "cell_type": "markdown",
   "id": "1e7b9705-a736-489c-b069-be16cc5ecea2",
   "metadata": {},
   "source": [
    "## Sales"
   ]
  },
  {
   "cell_type": "code",
   "execution_count": 35,
   "id": "c93fc09a-80cf-4d22-9e3e-5be396ca3527",
   "metadata": {
    "tags": []
   },
   "outputs": [],
   "source": [
    "stock_melt = stock.melt(id_vars = ('werks', 'address_text', 'macro_name', 'assort_level', 'status', 'brand_name', 'plu_name', 'plu_code', 'oos_days'), var_name = 'date', value_name = 'stock')"
   ]
  },
  {
   "cell_type": "code",
   "execution_count": 36,
   "id": "7a179e17-dfde-4b73-b605-a6d2b3d39b30",
   "metadata": {
    "tags": []
   },
   "outputs": [],
   "source": [
    "sales = sales.melt(id_vars = ('werks', 'address_text', 'macro_name', 'assort_level', 'status', 'brand_name', 'plu_name', 'plu_code'), var_name = 'date', value_name = 'sales')\n",
    "sales = pd.merge(sales, stock_melt, how = 'left')\n",
    "sales = sales[sales['stock'] != 0]"
   ]
  },
  {
   "cell_type": "code",
   "execution_count": 37,
   "id": "d346f75d-af21-46ba-b73f-9ae754b3bb9f",
   "metadata": {
    "tags": []
   },
   "outputs": [],
   "source": [
    "#price\n",
    "sales = pd.merge(sales, current_prices, left_on = 'plu_code', right_on = 'Product Code', how = 'left')"
   ]
  },
  {
   "cell_type": "code",
   "execution_count": 39,
   "id": "ce90d1fa-a698-40da-9de7-f2fd1cd03f4a",
   "metadata": {},
   "outputs": [],
   "source": [
    "sales['assort_level'] = sales['assort_level'].astype('object')\n",
    "sales['plu_code'] = sales['plu_code'].astype('object')\n",
    "sales['sales'] = sales['sales'].astype('float')"
   ]
  },
  {
   "cell_type": "code",
   "execution_count": 41,
   "id": "68ed87ef-863c-4929-97ba-b6ec27a18006",
   "metadata": {
    "tags": []
   },
   "outputs": [],
   "source": [
    "#stock\n",
    "sales_grouped = sales.groupby([\"macro_name\", \"plu_code\", \"plu_name\", \"assort_level\", 'brand_name', 'werks']).agg({'sales':'sum', 'oos_days':'mean', 'price' :'mean'}).reset_index()\n",
    "sales_grouped['daily_sales'] = (sales_grouped['sales']*sales_grouped['price'])/(7-sales_grouped['oos_days'])\n",
    "sales_grouped = sales_grouped.groupby([\"macro_name\", \"plu_code\", \"plu_name\", \"assort_level\", 'brand_name']).agg({'werks':'size','sales':'sum', 'daily_sales':'mean','price' :'mean'}).reset_index()\n"
   ]
  },
  {
   "cell_type": "code",
   "execution_count": 42,
   "id": "78a9e06b-bd54-46ef-94fb-a4bf9d3aeaea",
   "metadata": {},
   "outputs": [],
   "source": [
    "sales_grouped = sales_grouped[['macro_name', 'plu_code', 'plu_name', 'assort_level', 'brand_name','sales', 'daily_sales', 'price']]\n"
   ]
  },
  {
   "cell_type": "markdown",
   "id": "f7ce5cb8-f9e9-46f8-adfe-2cea8e92deba",
   "metadata": {},
   "source": [
    "## Merging oos dataset and daily sales dataset"
   ]
  },
  {
   "cell_type": "code",
   "execution_count": 43,
   "id": "a36ec193-c84b-4a99-ae97-41e96ab8bf85",
   "metadata": {},
   "outputs": [],
   "source": [
    "final = pd.merge(stock_grouped, sales_grouped, on = ('macro_name', 'plu_code', 'plu_name', 'assort_level'), how = 'left')"
   ]
  },
  {
   "cell_type": "code",
   "execution_count": 44,
   "id": "ee0d554b-2ca4-4b01-a398-fea782c68fd9",
   "metadata": {
    "tags": []
   },
   "outputs": [],
   "source": [
    "final['lost_sales'] = (final[1]*final['daily_sales']) + (final[2]*final['daily_sales'] *2)+(final[3]*final['daily_sales'] *3)+(final[4]*final['daily_sales'] *4)+(final[5]*final['daily_sales'] *5)+(final[6]*final['daily_sales'] *6)+(final[7]*final['daily_sales'] *7)\n"
   ]
  },
  {
   "cell_type": "code",
   "execution_count": 45,
   "id": "bcaa5991-6135-4306-bf7f-40013fafe9b8",
   "metadata": {},
   "outputs": [],
   "source": [
    "final.to_excel(r'C:\\Users\\maiguann\\OneDrive - Mars Inc\\Documents\\MW alert system DC\\OOS\\oos_2609.xlsx')"
   ]
  },
  {
   "cell_type": "code",
   "execution_count": null,
   "id": "96b72619-6808-4a0e-9069-8b9b0ae82e90",
   "metadata": {},
   "outputs": [],
   "source": []
  },
  {
   "cell_type": "code",
   "execution_count": null,
   "id": "4d151718-4a12-43ee-b164-8ff9755c863a",
   "metadata": {},
   "outputs": [],
   "source": []
  }
 ],
 "metadata": {
  "kernelspec": {
   "display_name": "Python 3 (ipykernel)",
   "language": "python",
   "name": "python3"
  },
  "language_info": {
   "codemirror_mode": {
    "name": "ipython",
    "version": 3
   },
   "file_extension": ".py",
   "mimetype": "text/x-python",
   "name": "python",
   "nbconvert_exporter": "python",
   "pygments_lexer": "ipython3",
   "version": "3.9.5"
  }
 },
 "nbformat": 4,
 "nbformat_minor": 5
}
